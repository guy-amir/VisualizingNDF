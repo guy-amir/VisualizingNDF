{
 "cells": [
  {
   "cell_type": "markdown",
   "metadata": {},
   "source": [
    "# Example 1:"
   ]
  },
  {
   "cell_type": "markdown",
   "metadata": {},
   "source": [
    "Tree depth: 5"
   ]
  },
  {
   "cell_type": "markdown",
   "metadata": {},
   "source": [
    "Epochs: 3"
   ]
  },
  {
   "cell_type": "code",
   "execution_count": 42,
   "metadata": {},
   "outputs": [],
   "source": [
    "import pandas as pd\n",
    "import matplotlib.pyplot as plt\n",
    "import seaborn as sns\n",
    "import numpy as np\n",
    "from sklearn.linear_model import LinearRegression"
   ]
  },
  {
   "cell_type": "code",
   "execution_count": 90,
   "metadata": {},
   "outputs": [],
   "source": [
    "df = pd.read_csv('./guy.csv',header=None)\n",
    "\n",
    "df2 = df.T\n",
    "df2['N']=df2[0]\n",
    "df2['error']=df2[1]\n",
    "df2['logN']=np.log(df2[0])\n",
    "df2['logerror']=np.log(df2[1])"
   ]
  },
  {
   "cell_type": "code",
   "execution_count": 91,
   "metadata": {},
   "outputs": [],
   "source": [
    "#Error value with all wavelets:\n",
    "error = 0.0342\n",
    "logError = np.log(error)"
   ]
  },
  {
   "cell_type": "code",
   "execution_count": 92,
   "metadata": {},
   "outputs": [],
   "source": [
    "lr  = LinearRegression()\n",
    "X = df2['logN'].values.reshape(-1,1)\n",
    "Y = df2['logerror'].values.reshape(-1,1)\n",
    "lr.fit(X,Y)\n",
    "Y_pred = lr.predict(X)"
   ]
  },
  {
   "cell_type": "code",
   "execution_count": 93,
   "metadata": {},
   "outputs": [
    {
     "data": {
      "image/png": "[encoded data removed]",
      "text/plain": [
       "<Figure size 432x288 with 1 Axes>"
      ]
     },
     "metadata": {},
     "output_type": "display_data"
    }
   ],
   "source": [
    "fig, axes = plt.subplots(1, 1)\n",
    "axes.scatter(X, Y)\n",
    "axes.plot(X, Y_pred, color='red')\n",
    "axes.axhline(y=logError,linewidth=1, color='g')\n",
    "axes.set_xlabel(\"log N\")\n",
    "axes.set_ylabel(\"log error\")\n",
    "plt.show()"
   ]
  },
  {
   "cell_type": "code",
   "execution_count": 77,
   "metadata": {},
   "outputs": [
    {
     "data": {
      "text/plain": [
       "1.42014368324618"
      ]
     },
     "execution_count": 77,
     "metadata": {},
     "output_type": "execute_result"
    }
   ],
   "source": [
    "alpha = -lr.coef_[0][0]\n",
    "alpha"
   ]
  },
  {
   "cell_type": "code",
   "execution_count": 76,
   "metadata": {},
   "outputs": [
    {
     "data": {
      "text/plain": [
       "3.550781074270985"
      ]
     },
     "execution_count": 76,
     "metadata": {},
     "output_type": "execute_result"
    }
   ],
   "source": [
    "logC = lr.intercept_[0]\n",
    "logC"
   ]
  },
  {
   "cell_type": "markdown",
   "metadata": {},
   "source": [
    "# Example 2:"
   ]
  },
  {
   "cell_type": "markdown",
   "metadata": {},
   "source": [
    "Tree depth: 7"
   ]
  },
  {
   "cell_type": "markdown",
   "metadata": {},
   "source": [
    "Epochs: 6"
   ]
  },
  {
   "cell_type": "code",
   "execution_count": 80,
   "metadata": {},
   "outputs": [],
   "source": [
    "#Error value with all wavelets:\n",
    "error = 0.0411\n",
    "logError = np.log(error)"
   ]
  },
  {
   "cell_type": "code",
   "execution_count": 84,
   "metadata": {},
   "outputs": [
    {
     "data": {
      "text/html": [
       "<div>\n",
       "<style scoped>\n",
       "    .dataframe tbody tr th:only-of-type {\n",
       "        vertical-align: middle;\n",
       "    }\n",
       "\n",
       "    .dataframe tbody tr th {\n",
       "        vertical-align: top;\n",
       "    }\n",
       "\n",
       "    .dataframe thead th {\n",
       "        text-align: right;\n",
       "    }\n",
       "</style>\n",
       "<table border=\"1\" class=\"dataframe\">\n",
       "  <thead>\n",
       "    <tr style=\"text-align: right;\">\n",
       "      <th></th>\n",
       "      <th>Unnamed: 0</th>\n",
       "      <th>N</th>\n",
       "      <th>Loss</th>\n",
       "      <th>logN</th>\n",
       "      <th>logerror</th>\n",
       "    </tr>\n",
       "  </thead>\n",
       "  <tbody>\n",
       "    <tr>\n",
       "      <td>0</td>\n",
       "      <td>0</td>\n",
       "      <td>5</td>\n",
       "      <td>1.518021</td>\n",
       "      <td>1.609438</td>\n",
       "      <td>0.417408</td>\n",
       "    </tr>\n",
       "    <tr>\n",
       "      <td>1</td>\n",
       "      <td>1</td>\n",
       "      <td>10</td>\n",
       "      <td>0.717162</td>\n",
       "      <td>2.302585</td>\n",
       "      <td>-0.332454</td>\n",
       "    </tr>\n",
       "    <tr>\n",
       "      <td>2</td>\n",
       "      <td>2</td>\n",
       "      <td>15</td>\n",
       "      <td>2.806047</td>\n",
       "      <td>2.708050</td>\n",
       "      <td>1.031777</td>\n",
       "    </tr>\n",
       "    <tr>\n",
       "      <td>3</td>\n",
       "      <td>3</td>\n",
       "      <td>20</td>\n",
       "      <td>0.235825</td>\n",
       "      <td>2.995732</td>\n",
       "      <td>-1.444666</td>\n",
       "    </tr>\n",
       "    <tr>\n",
       "      <td>4</td>\n",
       "      <td>4</td>\n",
       "      <td>25</td>\n",
       "      <td>0.227608</td>\n",
       "      <td>3.218876</td>\n",
       "      <td>-1.480130</td>\n",
       "    </tr>\n",
       "    <tr>\n",
       "      <td>5</td>\n",
       "      <td>5</td>\n",
       "      <td>30</td>\n",
       "      <td>0.223266</td>\n",
       "      <td>3.401197</td>\n",
       "      <td>-1.499390</td>\n",
       "    </tr>\n",
       "    <tr>\n",
       "      <td>6</td>\n",
       "      <td>6</td>\n",
       "      <td>35</td>\n",
       "      <td>0.215033</td>\n",
       "      <td>3.555348</td>\n",
       "      <td>-1.536962</td>\n",
       "    </tr>\n",
       "    <tr>\n",
       "      <td>7</td>\n",
       "      <td>7</td>\n",
       "      <td>40</td>\n",
       "      <td>0.215025</td>\n",
       "      <td>3.688879</td>\n",
       "      <td>-1.536999</td>\n",
       "    </tr>\n",
       "    <tr>\n",
       "      <td>8</td>\n",
       "      <td>8</td>\n",
       "      <td>45</td>\n",
       "      <td>0.041145</td>\n",
       "      <td>3.806662</td>\n",
       "      <td>-3.190659</td>\n",
       "    </tr>\n",
       "    <tr>\n",
       "      <td>9</td>\n",
       "      <td>9</td>\n",
       "      <td>50</td>\n",
       "      <td>0.041125</td>\n",
       "      <td>3.912023</td>\n",
       "      <td>-3.191141</td>\n",
       "    </tr>\n",
       "    <tr>\n",
       "      <td>10</td>\n",
       "      <td>10</td>\n",
       "      <td>55</td>\n",
       "      <td>0.041124</td>\n",
       "      <td>4.007333</td>\n",
       "      <td>-3.191153</td>\n",
       "    </tr>\n",
       "    <tr>\n",
       "      <td>11</td>\n",
       "      <td>11</td>\n",
       "      <td>60</td>\n",
       "      <td>0.000214</td>\n",
       "      <td>4.094345</td>\n",
       "      <td>-8.449575</td>\n",
       "    </tr>\n",
       "    <tr>\n",
       "      <td>12</td>\n",
       "      <td>12</td>\n",
       "      <td>65</td>\n",
       "      <td>0.000154</td>\n",
       "      <td>4.174387</td>\n",
       "      <td>-8.777670</td>\n",
       "    </tr>\n",
       "    <tr>\n",
       "      <td>13</td>\n",
       "      <td>13</td>\n",
       "      <td>70</td>\n",
       "      <td>0.000141</td>\n",
       "      <td>4.248495</td>\n",
       "      <td>-8.870054</td>\n",
       "    </tr>\n",
       "  </tbody>\n",
       "</table>\n",
       "</div>"
      ],
      "text/plain": [
       "    Unnamed: 0   N      Loss      logN  logerror\n",
       "0            0   5  1.518021  1.609438  0.417408\n",
       "1            1  10  0.717162  2.302585 -0.332454\n",
       "2            2  15  2.806047  2.708050  1.031777\n",
       "3            3  20  0.235825  2.995732 -1.444666\n",
       "4            4  25  0.227608  3.218876 -1.480130\n",
       "5            5  30  0.223266  3.401197 -1.499390\n",
       "6            6  35  0.215033  3.555348 -1.536962\n",
       "7            7  40  0.215025  3.688879 -1.536999\n",
       "8            8  45  0.041145  3.806662 -3.190659\n",
       "9            9  50  0.041125  3.912023 -3.191141\n",
       "10          10  55  0.041124  4.007333 -3.191153\n",
       "11          11  60  0.000214  4.094345 -8.449575\n",
       "12          12  65  0.000154  4.174387 -8.777670\n",
       "13          13  70  0.000141  4.248495 -8.870054"
      ]
     },
     "execution_count": 84,
     "metadata": {},
     "output_type": "execute_result"
    }
   ],
   "source": [
    "df3 = pd.read_csv('./epochs6tree7.csv')\n",
    "df3['logN']=np.log(df3.N)\n",
    "df3['logerror']=np.log(df3.Loss)\n",
    "df3"
   ]
  },
  {
   "cell_type": "code",
   "execution_count": 86,
   "metadata": {},
   "outputs": [],
   "source": [
    "lr  = LinearRegression()\n",
    "X = df3['logN'].values.reshape(-1,1)\n",
    "Y = df3['logerror'].values.reshape(-1,1)\n",
    "lr.fit(X,Y)\n",
    "Y_pred = lr.predict(X)"
   ]
  },
  {
   "cell_type": "code",
   "execution_count": 88,
   "metadata": {},
   "outputs": [
    {
     "data": {
      "image/png": "[encoded data removed]",
      "text/plain": [
       "<Figure size 432x288 with 1 Axes>"
      ]
     },
     "metadata": {},
     "output_type": "display_data"
    }
   ],
   "source": [
    "fig, axes = plt.subplots(1, 1)\n",
    "axes.scatter(X, Y)\n",
    "axes.plot(X, Y_pred, color='red')\n",
    "axes.axhline(y=logError,linewidth=1, color='g')\n",
    "axes.set_xlabel(\"log N\")\n",
    "axes.set_ylabel(\"log error\")\n",
    "plt.show()"
   ]
  },
  {
   "cell_type": "code",
   "execution_count": null,
   "metadata": {},
   "outputs": [],
   "source": []
  }
 ],
 "metadata": {
  "kernelspec": {
   "display_name": "Python 3",
   "language": "python",
   "name": "python3"
  },
  "language_info": {
   "codemirror_mode": {
    "name": "ipython",
    "version": 3
   },
   "file_extension": ".py",
   "mimetype": "text/x-python",
   "name": "python",
   "nbconvert_exporter": "python",
   "pygments_lexer": "ipython3",
   "version": "3.7.4"
  }
 },
 "nbformat": 4,
 "nbformat_minor": 2
}
